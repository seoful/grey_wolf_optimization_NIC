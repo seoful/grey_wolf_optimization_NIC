{
 "cells": [
  {
   "cell_type": "code",
   "execution_count": 81,
   "metadata": {},
   "outputs": [],
   "source": [
    "import pandas as pd\n",
    "import numpy as np\n",
    "from tqdm import tqdm"
   ]
  },
  {
   "cell_type": "code",
   "execution_count": 82,
   "metadata": {},
   "outputs": [],
   "source": [
    "class Preprocessor:\n",
    "    def __init__(self):\n",
    "        pass\n",
    "    \n",
    "    def __init__(self,df_identity, df_transactions):\n",
    "        df = df_transactions.join(df_identity,how='left',on='TransactionID',lsuffix='_left', rsuffix='_right')\n",
    "        df.drop(inplace=True,columns=['TransactionID_left','TransactionID_right'])\n",
    "        self.X = df.iloc[:,1:]\n",
    "        self.n = self.X.shape[1]\n",
    "        self.y = df.iloc[:,0]\n",
    "    \n",
    "    def preprocess(self, weights, threshold) -> pd.DataFrame:\n",
    "        pass\n"
   ]
  },
  {
   "cell_type": "code",
   "execution_count": 83,
   "metadata": {},
   "outputs": [],
   "source": [
    "from sklearn.tree import DecisionTreeClassifier\n",
    "\n",
    "class Estimator:\n",
    "    def __init__(self):\n",
    "        pass\n",
    "\n",
    "    def get_score(X, y) -> float:\n",
    "        pass"
   ]
  },
  {
   "cell_type": "code",
   "execution_count": 86,
   "metadata": {},
   "outputs": [],
   "source": [
    "class GreyWolfOptimizer:\n",
    "    \n",
    "    def __init__(self,estimator: Estimator, preprocessor: Preprocessor):\n",
    "        self.estimator = estimator\n",
    "        self.preprocessor = preprocessor\n",
    "\n",
    "    def _init_population(self, features_n, population_size):\n",
    "        population = []\n",
    "        individual = []\n",
    "        for _ in range(population_size):\n",
    "            individual = np.random.random(size=len(features_n))\n",
    "            population.append(individual)\n",
    "        return population\n",
    "\n",
    "    def run(self, iterations = 50, threshold = 0.5, population_size = 10):\n",
    "        \n",
    "        #Init algo\n",
    "        n = self.preprocessor.n # number of features\n",
    "        population = self._init_population(population_size=population_size,features_n=n)\n",
    "\n",
    "        bar = tqdm(range(iterations))\n",
    "\n",
    "        for i in bar: #Epochs\n",
    "            step = i * ((2-0) / iterations)\n",
    "            population = sorted(population, key=lambda x: self._calculate_cost(x,threshold),reverse = True)\n",
    "            X = population[:3] # alpha, beta, delta\n",
    "            a = np.full((1, n), 2 - step)\n",
    "            new_population = []\n",
    "            for individual in population:\n",
    "                r1 = np.random.random(size=n)\n",
    "                r2 = np.random.random(size=n)\n",
    "                A = 2 * a * r1 - a\n",
    "                C = 2 * r2\n",
    "                new_individual = np.full((1, n), 0.0)\n",
    "                for x in X:\n",
    "                    D = abs(C * x - individual)\n",
    "                    new_x = x - A * D\n",
    "                    new_individual = new_individual + new_x\n",
    "                new_population.append(new_individual / 3)\n",
    "            \n",
    "            population = new_population\n",
    "\n",
    "        # Best solution after n iterations\n",
    "        population = sorted(population, key=lambda x: self._calculate_cost(x,threshold),reverse = True)\n",
    "        X_alpha = population[0]\n",
    "        return X_alpha\n",
    "\n",
    "\n",
    "    def _calculate_cost(self, weights, threshold):\n",
    "        X = self.preprocessor.preprocess(weights,threshold=threshold)\n",
    "        y = self.preprocessor.y\n",
    "\n",
    "        return self.estimator.get_score(X,y)\n",
    "    "
   ]
  }
 ],
 "metadata": {
  "kernelspec": {
   "display_name": "base",
   "language": "python",
   "name": "python3"
  },
  "language_info": {
   "codemirror_mode": {
    "name": "ipython",
    "version": 3
   },
   "file_extension": ".py",
   "mimetype": "text/x-python",
   "name": "python",
   "nbconvert_exporter": "python",
   "pygments_lexer": "ipython3",
   "version": "3.9.16"
  },
  "orig_nbformat": 4
 },
 "nbformat": 4,
 "nbformat_minor": 2
}
