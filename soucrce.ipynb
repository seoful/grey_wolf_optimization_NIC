{
 "cells": [
  {
   "cell_type": "code",
   "execution_count": 81,
   "metadata": {},
   "outputs": [],
   "source": [
    "import pandas as pd\n",
    "import numpy as np\n",
    "from tqdm import tqdm"
   ]
  },
  {
   "cell_type": "code",
   "execution_count": 82,
   "metadata": {},
   "outputs": [],
   "source": [
    "class Preprocessor:\n",
    "    def __init__(self):\n",
    "        pass\n",
    "    \n",
    "    def __init__(self,df_identity, df_transactions):\n",
    "        df = df_transactions.join(df_identity,how='left',on='TransactionID',lsuffix='_left', rsuffix='_right')\n",
    "        df.drop(inplace=True,columns=['TransactionID_left','TransactionID_right'])\n",
    "        self.X = df.iloc[:,1:]\n",
    "        self.y = df.iloc[:,0]\n",
    "    \n",
    "    def preprocess(self, weights, threshold) -> pd.DataFrame:\n",
    "        pass\n"
   ]
  },
  {
   "cell_type": "code",
   "execution_count": 83,
   "metadata": {},
   "outputs": [],
   "source": [
    "from sklearn.tree import DecisionTreeClassifier\n",
    "\n",
    "class Estimator:\n",
    "    def __init__(self):\n",
    "        pass\n",
    "\n",
    "    def get_score(X, y) -> float:\n",
    "        pass"
   ]
  },
  {
   "cell_type": "code",
   "execution_count": 86,
   "metadata": {},
   "outputs": [],
   "source": [
    "class GreyWolfOptimizer:\n",
    "    \n",
    "    def __init__(self,estimator: Estimator, preprocessor: Preprocessor):\n",
    "        self.estimator = estimator\n",
    "        self.preprocessor = preprocessor\n",
    "\n",
    "    def init_population(self, set_of_features):\n",
    "        population = []\n",
    "        individual = []\n",
    "        for i in range(5):\n",
    "            individual = np.random.choice([0,1], size=len(set_of_features))\n",
    "            population.append(individual)\n",
    "        return(population)\n",
    "\n",
    "    def run(self, iterations = 50, threshold = 0.5):\n",
    "\n",
    "        #Init algo\n",
    "        population = self.init_population(...)\n",
    "        n = len(...) # number of features\n",
    "\n",
    "        bar = tqdm(range(iterations))\n",
    "\n",
    "        j = 0\n",
    "        for i in bar: #Epochs\n",
    "            step = j*((2-0)/iterations)\n",
    "            self._calculate_cost(population, threshold)\n",
    "            X = population[:3] # alpha, beta, delta\n",
    "            a = np.full((1, n), 2 - step)\n",
    "            for individual in population[3:]:\n",
    "                r1 = np.random.choice([0,1], size=n)\n",
    "                r2 = np.random.choice([0,1], size=n)\n",
    "                A = 2*a*r1-a\n",
    "                C = 2*r2\n",
    "                new_individual = np.full((1, n), 0)\n",
    "                for x in X:\n",
    "                    D = abs(C*x - individual)\n",
    "                    new_x = x - A*D\n",
    "                    new_individual = new_individual + new_x\n",
    "                individual = new_individual/3\n",
    "            j += 1\n",
    "\n",
    "        # Best solution after 50 iterations\n",
    "        self._calculate_cost(population, threshold)\n",
    "        X_alpha = population[0]\n",
    "            # Something\n",
    "\n",
    "        pass\n",
    "\n",
    "    def _calculate_cost(self, weights, threshold):\n",
    "        X = self.preprocessor.preprocess(threshold=threshold)\n",
    "        y = self.preprocessor.y\n",
    "        sorted(weights, key=self.estimator.get_score(X,y))\n",
    "\n",
    "        # return self.estimator.get_score(X,y)\n",
    "    "
   ]
  }
 ],
 "metadata": {
  "kernelspec": {
   "display_name": "base",
   "language": "python",
   "name": "python3"
  },
  "language_info": {
   "codemirror_mode": {
    "name": "ipython",
    "version": 3
   },
   "file_extension": ".py",
   "mimetype": "text/x-python",
   "name": "python",
   "nbconvert_exporter": "python",
   "pygments_lexer": "ipython3",
   "version": "3.9.16"
  },
  "orig_nbformat": 4
 },
 "nbformat": 4,
 "nbformat_minor": 2
}
