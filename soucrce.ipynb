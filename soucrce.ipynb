{
 "cells": [
  {
   "cell_type": "code",
   "execution_count": 2,
   "metadata": {},
   "outputs": [],
   "source": [
    "import pandas as pd\n",
    "import numpy as np\n",
    "from tqdm import tqdm"
   ]
  },
  {
   "cell_type": "code",
   "execution_count": 5,
   "metadata": {},
   "outputs": [],
   "source": [
    "df_identity = pd.read_csv('train_identity.csv')\n",
    "df_transactions = pd.read_csv('train_transaction.csv')"
   ]
  },
  {
   "cell_type": "code",
   "execution_count": 19,
   "metadata": {},
   "outputs": [],
   "source": [
    "class Preprocessor:\n",
    "    \n",
    "    def __init__(self,df_identity, df_transactions):\n",
    "        df = df_transactions.join(df_identity,how='left',on='TransactionID',lsuffix='_left', rsuffix='_right')\n",
    "        df.drop(inplace=True,columns=['TransactionID_left','TransactionID_right'])\n",
    "        self.X = df.iloc[:,1:]\n",
    "        self.y = df.iloc[:,0]\n",
    "    \n",
    "    def preprocess(self, weights, threshold) -> pd.DataFrame:\n",
    "        pass\n"
   ]
  },
  {
   "cell_type": "code",
   "execution_count": null,
   "metadata": {},
   "outputs": [],
   "source": [
    "from sklearn.tree import DecisionTreeClassifier\n",
    "\n",
    "class Estimator:\n",
    "    def __init__(self):\n",
    "        pass\n",
    "\n",
    "    def get_score(X, y) -> float:\n",
    "        pass"
   ]
  },
  {
   "cell_type": "code",
   "execution_count": null,
   "metadata": {},
   "outputs": [],
   "source": [
    "class GreyWolfOptimizer:\n",
    "    \n",
    "    def __init__(self,estimator: Estimator, preprocessor: Preprocessor):\n",
    "        self.estimator = estimator\n",
    "        self.preprocessor = preprocessor\n",
    "\n",
    "    def run(self ,iterations = 50, threshold = 0.5):\n",
    "\n",
    "        #Init algo\n",
    "        \n",
    "\n",
    "        bar = tqdm(range(iterations))\n",
    "\n",
    "        for i in bar: #Epochs\n",
    "            \n",
    "            # Something\n",
    "\n",
    "            pass\n",
    "\n",
    "    def _calculate_cost(self, weights, threshold):\n",
    "        X = self.preprocessor.preprocess(threshold=threshold)\n",
    "        y = self.preprocessor.y\n",
    "\n",
    "        return self.estimator.get_score(X,y)\n",
    "    "
   ]
  }
 ],
 "metadata": {
  "kernelspec": {
   "display_name": "base",
   "language": "python",
   "name": "python3"
  },
  "language_info": {
   "codemirror_mode": {
    "name": "ipython",
    "version": 3
   },
   "file_extension": ".py",
   "mimetype": "text/x-python",
   "name": "python",
   "nbconvert_exporter": "python",
   "pygments_lexer": "ipython3",
   "version": "3.9.16"
  },
  "orig_nbformat": 4
 },
 "nbformat": 4,
 "nbformat_minor": 2
}
